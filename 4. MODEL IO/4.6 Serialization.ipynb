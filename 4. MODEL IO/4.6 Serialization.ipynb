{
 "cells": [
  {
   "cell_type": "code",
   "execution_count": null,
   "id": "4eba8e4d",
   "metadata": {},
   "outputs": [
    {
     "name": "stderr",
     "output_type": "stream",
     "text": [
      "Failed to load default session, using empty session: 0\n",
      "Error in LangChainTracerV1.on_llm_end callback: ValidationError(model='LLMRun', errors=[{'loc': ('response', 'generations', 0, 0, 'type'), 'msg': \"unexpected value; permitted: 'Generation'\", 'type': 'value_error.const', 'ctx': {'given': 'ChatGeneration', 'permitted': ('Generation',)}}])\n",
      "Failed to load default session, using empty session: 0\n",
      "Error in LangChainTracerV1.on_llm_end callback: ValidationError(model='LLMRun', errors=[{'loc': ('response', 'generations', 0, 0, 'type'), 'msg': \"unexpected value; permitted: 'Generation'\", 'type': 'value_error.const', 'ctx': {'given': 'ChatGeneration', 'permitted': ('Generation',)}}])\n"
     ]
    },
    {
     "name": "stdout",
     "output_type": "stream",
     "text": [
      "Ingredients:\n",
      "- 1 cup of rice\n",
      "- 1 cup of water\n",
      "- 1 tablespoon of yeast\n",
      "- 1 tablespoon of sugar\n",
      "\n",
      "Instructions:\n",
      "1. Rinse the rice thoroughly and soak it in water for at least 1 hour.\n",
      "2. Drain the rice and place it in a steamer basket. Steam the rice for about 30 minutes, or until it is cooked through.\n",
      "3. Transfer the cooked rice to a large bowl and let it cool to room temperature.\n",
      "4. In a separate bowl, mix the yeast and sugar with the water until dissolved.\n",
      "5. Add the yeast mixture to the cooled rice and mix well.\n",
      "6. Cover the bowl with a clean cloth and let it ferment in a warm place for at least 1 week, stirring occasionally.\n",
      "7. After the fermentation process is complete, strain the mixture through a cheesecloth or fine mesh strainer to remove any solids.\n",
      "8. Transfer the liquid to a clean bottle and store it in the refrigerator until ready to serve.\n",
      "\n",
      "Enjoy your homemade soju! Ingredients:\n",
      "- 4 cups all-purpose flour\n",
      "- 1 packet active dry yeast\n",
      "- 1 1/2 cups warm water\n",
      "- 2 tablespoons sugar\n",
      "- 2 teaspoons salt\n",
      "- 2 tablespoons olive oil\n",
      "\n",
      "Instructions:\n",
      "1. In a small bowl, dissolve the yeast and sugar in warm water. Let it sit for about 10 minutes until it becomes frothy.\n",
      "2. In a large mixing bowl, combine the flour and salt. Make a well in the center and pour in the yeast mixture and olive oil.\n",
      "3. Mix the ingredients together until a dough forms. Knead the dough on a floured surface for about 10 minutes until it becomes smooth and elastic.\n",
      "4. Place the dough in a greased bowl, cover with a clean towel, and let it rise in a warm place for about 1 hour or until it has doubled in size.\n",
      "5. Punch down the dough and shape it into a loaf. Place the loaf in a greased loaf pan and let it rise for another 30 minutes.\n",
      "6. Preheat the oven to 375°F (190°C). Bake the bread for about 30-35 minutes or until it is golden brown and sounds hollow when tapped on the bottom.\n",
      "7. Remove the bread from the oven and let it cool on a wire rack before slicing and serving. Enjoy your freshly baked bread! \n",
      "\n",
      "Tokens Used: 519\n",
      "\tPrompt Tokens: 27\n",
      "\tCompletion Tokens: 492\n",
      "Successful Requests: 2\n",
      "Total Cost (USD): $0.0010245\n"
     ]
    }
   ],
   "source": [
    "from langchain.chat_models import ChatOpenAI\n",
    "from langchain.callbacks import get_openai_callback\n",
    "\n",
    "chat = ChatOpenAI(\n",
    "    temperature=0.1,\n",
    ")\n",
    "\n",
    "# API 호출 비용 확인 코드 -> with 블록 안에서 코드 실행 후 usage 출력\n",
    "with get_openai_callback() as usage:\n",
    "    a = chat.predict(\"what is the recipe for soju\")\n",
    "    b = chat.predict(\"what is the recipe for bread\")\n",
    "    print(a, b, \"\\n\")\n",
    "    print(usage)"
   ]
  },
  {
   "cell_type": "code",
   "execution_count": null,
   "id": "a504ae47",
   "metadata": {},
   "outputs": [
    {
     "name": "stdout",
     "output_type": "stream",
     "text": [
      "\u001b[1mOpenAI\u001b[0m\n",
      "Params: {'model_name': 'text-davinci-003', 'temperature': 0.1, 'max_tokens': 450, 'top_p': 1.0, 'frequency_penalty': 0.0, 'presence_penalty': 0.0, 'n': 1, 'request_timeout': None, 'logit_bias': {}}\n"
     ]
    }
   ],
   "source": [
    "from langchain.llms.openai import OpenAI\n",
    "from langchain.llms.loading import load_llm\n",
    "\n",
    "# chat = OpenAI(\n",
    "    # temperature= 0.1,\n",
    "    # max_tokens= 450,\n",
    "# )\n",
    "\n",
    "# model.json 파일로 모델 불러오기 가능\n",
    "chat = load_llm(\"model.json\")\n",
    "\n",
    "# serialization -> model.json 파일 생성\n",
    "chat.save(\"model.json\")"
   ]
  }
 ],
 "metadata": {
  "kernelspec": {
   "display_name": "env",
   "language": "python",
   "name": "python3"
  },
  "language_info": {
   "codemirror_mode": {
    "name": "ipython",
    "version": 3
   },
   "file_extension": ".py",
   "mimetype": "text/x-python",
   "name": "python",
   "nbconvert_exporter": "python",
   "pygments_lexer": "ipython3",
   "version": "3.11.9"
  }
 },
 "nbformat": 4,
 "nbformat_minor": 5
}
