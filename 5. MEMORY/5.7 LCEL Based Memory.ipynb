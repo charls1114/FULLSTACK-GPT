{
 "cells": [
  {
   "cell_type": "code",
   "execution_count": null,
   "id": "1d7ca568",
   "metadata": {},
   "outputs": [],
   "source": [
    "from langchain.memory import ConversationSummaryBufferMemory\n",
    "from langchain.chat_models import ChatOpenAI\n",
    "from langchain.schema.runnable import RunnablePassthrough\n",
    "from langchain.prompts import ChatPromptTemplate, MessagesPlaceholder\n",
    "\n",
    "llm_model = ChatOpenAI(\n",
    "    temperature=0.1,\n",
    ")\n",
    "\n",
    "memory = ConversationSummaryBufferMemory(\n",
    "    llm = llm_model,\n",
    "    max_token_limit=120,\n",
    "    # memory_key의 기본 값 -> \"history\", 따라서 chat_history 대신 history 사용 가능\n",
    "    memory_key = \"chat_history\",\n",
    "    return_messages = True,\n",
    ")\n",
    "\n",
    "prompt = ChatPromptTemplate.from_messages(\n",
    "    [\n",
    "        (\"system\", \"You are a helpful AI talking to a human.\"),\n",
    "        MessagesPlaceholder(variable_name = \"chat_history\"),\n",
    "        (\"human\", \"{question}\")\n",
    "    ]\n",
    ")\n",
    "\n",
    "def load_memory(input):\n",
    "    # print(input)\n",
    "    return memory.load_memory_variables({})[\"chat_history\"]\n",
    "\n",
    "# load_memory 리턴값이 chat_history에 저장됨\n",
    "# chat_history와 사용자의 input이 결합된 후 프롬프트에\n",
    "# runnablepassthrough를 통해 전달됨\n",
    "chain = RunnablePassthrough.assign(chat_history=load_memory) | prompt | llm_model\n",
    "\n",
    "def invoke_chain(question):\n",
    "    result = chain.invoke({\n",
    "    # 체인 호출마다 chat_history를 추가해줘야함\n",
    "    # \"chat_history\": memory.load_memory_variables({})[\"chat_history\"],\n",
    "    # 체인의 첫번째 요소의 input이 됨\n",
    "    \"question\" : question\n",
    "    })\n",
    "    memory.save_context({\"input\": question}, {\"output\": result.content},)\n",
    "\n",
    "    print(result)"
   ]
  },
  {
   "cell_type": "code",
   "execution_count": 6,
   "id": "1ccde864",
   "metadata": {},
   "outputs": [
    {
     "name": "stderr",
     "output_type": "stream",
     "text": [
      "Failed to load default session, using empty session: 0\n",
      "Error in LangChainTracerV1.on_chain_end callback: ValueError('Unknown run type: prompt')\n"
     ]
    },
    {
     "name": "stdout",
     "output_type": "stream",
     "text": [
      "content='Hello Charls! How can I assist you today?'\n"
     ]
    }
   ],
   "source": [
    "invoke_chain(\"My name is Charls.\")"
   ]
  },
  {
   "cell_type": "code",
   "execution_count": 7,
   "id": "9b7eae9e",
   "metadata": {},
   "outputs": [
    {
     "name": "stderr",
     "output_type": "stream",
     "text": [
      "Failed to load default session, using empty session: 0\n",
      "Error in LangChainTracerV1.on_chain_end callback: ValueError('Unknown run type: prompt')\n"
     ]
    },
    {
     "name": "stdout",
     "output_type": "stream",
     "text": [
      "content='Your name is Charls.'\n"
     ]
    }
   ],
   "source": [
    "invoke_chain(\"what is my name?\")"
   ]
  }
 ],
 "metadata": {
  "kernelspec": {
   "display_name": "env",
   "language": "python",
   "name": "python3"
  },
  "language_info": {
   "codemirror_mode": {
    "name": "ipython",
    "version": 3
   },
   "file_extension": ".py",
   "mimetype": "text/x-python",
   "name": "python",
   "nbconvert_exporter": "python",
   "pygments_lexer": "ipython3",
   "version": "3.11.9"
  }
 },
 "nbformat": 4,
 "nbformat_minor": 5
}
