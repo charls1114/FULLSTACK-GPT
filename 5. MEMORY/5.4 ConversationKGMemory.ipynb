{
 "cells": [
  {
   "cell_type": "code",
   "execution_count": 1,
   "id": "eb739a4e",
   "metadata": {},
   "outputs": [
    {
     "name": "stderr",
     "output_type": "stream",
     "text": [
      "Failed to load default session, using empty session: 0\n",
      "Error in LangChainTracerV1.on_chain_end callback: ValidationError(model='LLMRun', errors=[{'loc': ('response', 'generations', 0, 0, 'type'), 'msg': \"unexpected value; permitted: 'Generation'\", 'type': 'value_error.const', 'ctx': {'given': 'ChatGeneration', 'permitted': ('Generation',)}}])\n"
     ]
    }
   ],
   "source": [
    "# KG -> KnowledgeGraph\n",
    "# 대화 속 엔티티의 knowledge graph 생성\n",
    "from langchain.memory import ConversationKGMemory\n",
    "from langchain.chat_models import ChatOpenAI\n",
    "\n",
    "llm_model = ChatOpenAI(\n",
    "    temperature=0.1,\n",
    ")\n",
    "\n",
    "memory = ConversationKGMemory(\n",
    "    llm = llm_model,\n",
    "    return_messages = True,\n",
    ")\n",
    "\n",
    "def add_message(input, output):\n",
    "    memory.save_context({\"input\": input}, {\"output\": output})\n",
    "\n",
    "add_message(\"Hi I'm Charls, I live in South Korea.\", \"Wow that is so cool!\")\n",
    "    "
   ]
  },
  {
   "cell_type": "code",
   "execution_count": null,
   "id": "f01e6587",
   "metadata": {},
   "outputs": [
    {
     "name": "stderr",
     "output_type": "stream",
     "text": [
      "Failed to load default session, using empty session: 0\n",
      "Error in LangChainTracerV1.on_chain_end callback: ValidationError(model='LLMRun', errors=[{'loc': ('response', 'generations', 0, 0, 'type'), 'msg': \"unexpected value; permitted: 'Generation'\", 'type': 'value_error.const', 'ctx': {'given': 'ChatGeneration', 'permitted': ('Generation',)}}])\n"
     ]
    },
    {
     "data": {
      "text/plain": [
       "{'history': [SystemMessage(content='On Charls: Charls lives in South Korea.')]}"
      ]
     },
     "execution_count": 2,
     "metadata": {},
     "output_type": "execute_result"
    }
   ],
   "source": [
    "# input에 대한 답변을 knowledge graph 기반으로 생성\n",
    "memory.load_memory_variables({\"input\":\"who is charls\"})"
   ]
  },
  {
   "cell_type": "code",
   "execution_count": 3,
   "id": "0dd6195d",
   "metadata": {},
   "outputs": [
    {
     "name": "stderr",
     "output_type": "stream",
     "text": [
      "Failed to load default session, using empty session: 0\n",
      "Error in LangChainTracerV1.on_chain_end callback: ValidationError(model='LLMRun', errors=[{'loc': ('response', 'generations', 0, 0, 'type'), 'msg': \"unexpected value; permitted: 'Generation'\", 'type': 'value_error.const', 'ctx': {'given': 'ChatGeneration', 'permitted': ('Generation',)}}])\n"
     ]
    }
   ],
   "source": [
    "add_message(\"charls likes pizza\", \"Wow that is so cool!\")"
   ]
  },
  {
   "cell_type": "code",
   "execution_count": 4,
   "id": "1a97c44a",
   "metadata": {},
   "outputs": [
    {
     "name": "stderr",
     "output_type": "stream",
     "text": [
      "Failed to load default session, using empty session: 0\n",
      "Error in LangChainTracerV1.on_chain_end callback: ValidationError(model='LLMRun', errors=[{'loc': ('response', 'generations', 0, 0, 'type'), 'msg': \"unexpected value; permitted: 'Generation'\", 'type': 'value_error.const', 'ctx': {'given': 'ChatGeneration', 'permitted': ('Generation',)}}])\n"
     ]
    },
    {
     "data": {
      "text/plain": [
       "{'history': [SystemMessage(content='On Charls: Charls lives in South Korea. Charls likes pizza.')]}"
      ]
     },
     "execution_count": 4,
     "metadata": {},
     "output_type": "execute_result"
    }
   ],
   "source": [
    "memory.load_memory_variables({\"input\":\"what does charls like\"})"
   ]
  }
 ],
 "metadata": {
  "kernelspec": {
   "display_name": "env",
   "language": "python",
   "name": "python3"
  },
  "language_info": {
   "codemirror_mode": {
    "name": "ipython",
    "version": 3
   },
   "file_extension": ".py",
   "mimetype": "text/x-python",
   "name": "python",
   "nbconvert_exporter": "python",
   "pygments_lexer": "ipython3",
   "version": "3.11.9"
  }
 },
 "nbformat": 4,
 "nbformat_minor": 5
}
